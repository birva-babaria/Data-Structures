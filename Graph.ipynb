{
 "cells": [
  {
   "cell_type": "code",
   "execution_count": 6,
   "metadata": {},
   "outputs": [],
   "source": [
    "class Node:\n",
    "\n",
    "    #initializing a new node with a value and list of adjacent nodes and status of the node\n",
    "    def __init__(self, value):\n",
    "        self.value = value\n",
    "        self.adjacency_list = []\n",
    "        self.visited = False\n",
    "\n",
    "class Graph:\n",
    "\n",
    "    def BFS(self, node):\n",
    "        #append first node in the queue and mark it as visited node\n",
    "        queue = []\n",
    "        queue.append(node)\n",
    "        node.visited = True\n",
    "\n",
    "        traversal = []\n",
    "\n",
    "        while queue:\n",
    "            #add the node to the traversal list and using adjacency_list traverse through all its child nodes\n",
    "            curr_node = queue.pop(0)\n",
    "            traversal.append(curr_node.value)\n",
    "\n",
    "            for element in curr_node.adjacency_list:\n",
    "                if element.visited == False:\n",
    "                    queue.append(element)\n",
    "                    element.visited = True\n",
    "        return traversal\n",
    "\n"
   ]
  },
  {
   "cell_type": "code",
   "execution_count": 7,
   "metadata": {},
   "outputs": [],
   "source": [
    "node1 = Node('A')\n",
    "node2 = Node('B')\n",
    "node3 = Node('C')\n",
    "node4 = Node('D')\n",
    "node5 = Node('E')\n",
    "node6 = Node('F')\n",
    "node7 = Node('G')\n",
    "\n",
    "node1.adjacency_list.append(node2) #a-b\n",
    "node1.adjacency_list.append(node3) #a-c\n",
    "node1.adjacency_list.append(node4) #a-d\n",
    "\n",
    "node2.adjacency_list.append(node5) #b-e\n",
    "node2.adjacency_list.append(node6) #b-f\n",
    "\n",
    "node4.adjacency_list.append(node7) #d-g"
   ]
  },
  {
   "cell_type": "code",
   "execution_count": 8,
   "metadata": {},
   "outputs": [
    {
     "name": "stdout",
     "output_type": "stream",
     "text": [
      "['A', 'B', 'C', 'D', 'E', 'F', 'G']\n"
     ]
    }
   ],
   "source": [
    "#BFS\n",
    "# use queue and traversal(add elements when they are popped from the queue)\n",
    "\n",
    "graph = Graph()\n",
    "traversal_list = graph.BFS(node1)\n",
    "print(traversal_list)\n"
   ]
  },
  {
   "cell_type": "code",
   "execution_count": null,
   "metadata": {},
   "outputs": [],
   "source": []
  }
 ],
 "metadata": {
  "kernelspec": {
   "display_name": "Python 3",
   "language": "python",
   "name": "python3"
  },
  "language_info": {
   "codemirror_mode": {
    "name": "ipython",
    "version": 3
   },
   "file_extension": ".py",
   "mimetype": "text/x-python",
   "name": "python",
   "nbconvert_exporter": "python",
   "pygments_lexer": "ipython3",
   "version": "3.11.5"
  }
 },
 "nbformat": 4,
 "nbformat_minor": 2
}
